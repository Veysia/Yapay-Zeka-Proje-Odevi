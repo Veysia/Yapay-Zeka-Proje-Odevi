{
 "cells": [
  {
   "cell_type": "code",
   "execution_count": null,
   "id": "39a773d5-00ef-4ae9-a90f-d543c7cd551e",
   "metadata": {},
   "outputs": [],
   "source": [
    "# Ön İşleme (Pre-processing) Aşamaları"
   ]
  },
  {
   "cell_type": "code",
   "execution_count": 63,
   "id": "e67a2ffd-5ad0-42a5-8b96-8509e64234cb",
   "metadata": {
    "scrolled": true
   },
   "outputs": [],
   "source": [
    "import nltk\n",
    "import numpy\n",
    "import pandas as pd\n",
    "import string\n",
    "import csv\n",
    "from gensim.models import Word2Vec\n",
    "from nltk.tokenize import sent_tokenize, word_tokenize\n",
    "from nltk.tokenize import word_tokenize, sent_tokenize\n",
    "from nltk.corpus import stopwords\n",
    "from nltk.stem import WordNetLemmatizer, PorterStemmer"
   ]
  },
  {
   "cell_type": "code",
   "execution_count": 64,
   "id": "f5e44bc1-629e-4f5b-81bc-8a45ea965ef6",
   "metadata": {},
   "outputs": [
    {
     "name": "stdout",
     "output_type": "stream",
     "text": [
      "                                                  Tweet  Etiket\n",
      "0     Allah'ım çıldıracağım. Yemin ederim çıldıracağ...  kızgın\n",
      "1     site ne zaman çalıştıda ürün stokları bitti di...  kızgın\n",
      "2       Sebebi neydi ki diye bağıracağım şimdi az kaldı  kızgın\n",
      "3     Black friday ne amk bu yıl çıkardınız bu bokud...  kızgın\n",
      "4     kısa kısa cevaplar vericeksen niye yazıyorsun ...  kızgın\n",
      "...                                                 ...     ...\n",
      "3995                    Aynı şeyleri yapmaktan sıkıldım   üzgün\n",
      "3996  Olacağı varsa oluyor ya hani, biteceği varsa d...   üzgün\n",
      "3997    Çok şey istiyorum ama sonu hep fiyasko MUTSUZUM   üzgün\n",
      "3998  Garip bir şekilde canım çok yanıyor moralim bozuk   üzgün\n",
      "3999  Üzgünüm birazdan takipten çıkarıp hesabımı giz...   üzgün\n",
      "\n",
      "[4000 rows x 2 columns]\n"
     ]
    }
   ],
   "source": [
    "df = pd.read_excel(\"C:/Users/veysi/Desktop/TurkishTweets.xlsx\") \n",
    "print(df)"
   ]
  },
  {
   "cell_type": "code",
   "execution_count": 65,
   "id": "42a1c507-c5df-466d-aa33-58b4afb052fa",
   "metadata": {},
   "outputs": [
    {
     "name": "stdout",
     "output_type": "stream",
     "text": [
      " İlk 50 Türkçe stopword:\n",
      "['nasıl', 'diye', 'ki', 'niçin', 'hiç', 'biri', 'niye', 'eğer', 'ne', 'birşey', 'sanki', 'da', 'birkaç', 'de', 'biz', 'mü', 'ya', 'nerde', 'tüm', 'az', 'çünkü', 'çok', 'ama', 'her', 'nerede', 'nereye', 'belki', 'en', 'gibi', 'için', 've', 'daha', 'yani', 'o', 'veya', 'ile', 'aslında', 'kez', 'mı', 'kim', 'defa', 'şey', 'şu', 'acaba', 'hem', 'siz', 'bazı', 'bu', 'ise', 'neden']\n"
     ]
    },
    {
     "name": "stderr",
     "output_type": "stream",
     "text": [
      "[nltk_data] Downloading package stopwords to\n",
      "[nltk_data]     C:\\Users\\veysi\\AppData\\Roaming\\nltk_data...\n",
      "[nltk_data]   Package stopwords is already up-to-date!\n"
     ]
    }
   ],
   "source": [
    "#Stop word removal(gereksiz/sık kullanılan kelimelerin çıkarılması) işlemi Yapıldı\n",
    "nltk.download(\"stopwords\")\n",
    "\n",
    "stop_words = set(stopwords.words('turkish'))\n",
    "\n",
    "stop_words_list = list(stop_words)\n",
    "\n",
    "print(\" İlk 50 Türkçe stopword:\")\n",
    "print(stop_words_list[:50])\n"
   ]
  },
  {
   "cell_type": "code",
   "execution_count": 66,
   "id": "ec6b68a4-5ae5-411b-b6ea-5c9f95638194",
   "metadata": {},
   "outputs": [
    {
     "name": "stdout",
     "output_type": "stream",
     "text": [
      "0     [Allahım çıldıracağım, Yemin ederim çıldıracağ...\n",
      "1     [site ne zaman çalıştıda ürün stokları bitti d...\n",
      "2     [Sebebi neydi ki diye bağıracağım şimdi az kaldı]\n",
      "3     [Black friday ne amk bu yıl çıkardınız bu boku...\n",
      "4     [kısa kısa cevaplar vericeksen niye yazıyorsun...\n",
      "5          [cinnet geçiriyorum iyice çıldırttılar beni]\n",
      "6     [Allahım etraf beyinsiz kaynıyor çıldıracağım ya]\n",
      "7                 [Bok gibi geçti sınavım çıldıracağım]\n",
      "8     [Allah kahretsin bunları öyle öfkeliyim ki diy...\n",
      "9     [Gerçek gerizekalı deli bir kitle var ama öyle...\n",
      "10    [Allah belamı versin ki günün üç saati keyfim ...\n",
      "11    [Bütün gün yaptığım stres sonucu hiçbir şey ol...\n",
      "12         [Erkekleri artık anlayamıyorum çıldıracağım]\n",
      "13               [Annemden ve babamdan nefret ediyorum]\n",
      "14    [Tek bir kelimeyle herşeyin düzeleceğini sanan...\n",
      "15    [Bir kitaba 25 tl verdiğim için gerizekalı diy...\n",
      "16    [Lan olum lan ne gerizekalısınız lan yine sini...\n",
      "17    [Nerede lan benim çikolatalı sütüm bak sinirle...\n",
      "18    [Sizi zerre umursamayan insanlar için deli gib...\n",
      "19    [Kendimi karşıma alıp konuşmak istiyorum bak g...\n",
      "Name: sentences, dtype: object\n"
     ]
    },
    {
     "name": "stderr",
     "output_type": "stream",
     "text": [
      "[nltk_data] Downloading package punkt to\n",
      "[nltk_data]     C:\\Users\\veysi\\AppData\\Roaming\\nltk_data...\n",
      "[nltk_data]   Package punkt is already up-to-date!\n"
     ]
    }
   ],
   "source": [
    "#Tokenization (noktalama işaretlerinin kaldırılması dâhil) Yapıldı\n",
    "# Gerekli NLTK paketi indiriliyor\n",
    "nltk.download('punkt')\n",
    "\n",
    "# Noktalama karakterlerini kaldırmak için çeviri tablosu\n",
    "translator = str.maketrans('', '', string.punctuation)\n",
    "\n",
    "# Her tweeti cümlelere ayır ve noktalama işaretlerini kaldır\n",
    "def split_and_clean_sentences(text):\n",
    "    sentences = sent_tokenize(str(text))  # Cümlelere ayırıyor\n",
    "    cleaned = [s.translate(translator) for s in sentences]  # Noktalamayı kaldırıyor\n",
    "    return cleaned\n",
    "\n",
    "df['sentences'] = df['Tweet'].apply(split_and_clean_sentences)\n",
    "\n",
    "# İlk 20 satırın cümlelerini yazdır\n",
    "print(df['sentences'].head(20))\n"
   ]
  },
  {
   "cell_type": "code",
   "execution_count": 67,
   "id": "c4e006a2-15fa-45ab-b2c4-dca9bb9232ba",
   "metadata": {},
   "outputs": [
    {
     "name": "stderr",
     "output_type": "stream",
     "text": [
      "[nltk_data] Downloading package punkt to\n",
      "[nltk_data]     C:\\Users\\veysi\\AppData\\Roaming\\nltk_data...\n",
      "[nltk_data]   Package punkt is already up-to-date!\n",
      "[nltk_data] Downloading package stopwords to\n",
      "[nltk_data]     C:\\Users\\veysi\\AppData\\Roaming\\nltk_data...\n",
      "[nltk_data]   Package stopwords is already up-to-date!\n"
     ]
    },
    {
     "name": "stdout",
     "output_type": "stream",
     "text": [
      "[['çıldıracağım'], ['yemin', 'ederim', 'çıldıracağım', 'sinirimden'], ['bir', 'yerden', 'çıkaramıyorum', 'cam', 'çerçeve', 'indireceğim', 'şimdi', 'varsa'], ['site', 'zaman', 'çalıştıda', 'ürün', 'stokları', 'bitti', 'diyor', 'mal', 'mısınız', 'oğlum', 'kimi', 'kandırıyorsunuz'], ['sebebi', 'neydi', 'bağıracağım', 'şimdi', 'kaldı'], ['black', 'friday', 'amk', 'yıl', 'çıkardınız', 'bokuda', 'mal', 'mısınız', 'nesiniz'], ['kısa', 'kısa', 'cevaplar', 'vericeksen', 'yazıyorsun', 'gerizekalı'], ['cinnet', 'geçiriyorum', 'iyice', 'çıldırttılar', 'beni'], ['etraf', 'beyinsiz', 'kaynıyor', 'çıldıracağım'], ['bok', 'geçti', 'sınavım', 'çıldıracağım']]\n"
     ]
    }
   ],
   "source": [
    "#Lowercasing (kelimelerin küçük harfe dönüştürülmesi) Yapıldı\n",
    "\n",
    "# Gerekli NLTK verileri indiriliyor\n",
    "nltk.download('punkt')\n",
    "nltk.download('stopwords')\n",
    "\n",
    "# Türkçe stopword'ler\n",
    "stop_words = set(stopwords.words('turkish'))\n",
    "\n",
    "# Tüm tweetleri tek bir listede cümlelere böl\n",
    "all_sentences = []\n",
    "for tweet in df['Tweet']:\n",
    "    if pd.notna(tweet):  # NaN olmayanları kontrol et\n",
    "        tweet_sentences = sent_tokenize(str(tweet))\n",
    "        all_sentences.extend(tweet_sentences)\n",
    "\n",
    "# Cümleleri kelimelere ayır ve temizle\n",
    "filtered_sentences = []\n",
    "for sentence in all_sentences:\n",
    "    tokens = word_tokenize(sentence)\n",
    "    filtered_tokens = []\n",
    "    for token in tokens:\n",
    "        if token.isalpha():  # Sadece harflerden oluşuyorsa\n",
    "            token_lower = token.lower()\n",
    "            if token_lower not in stop_words:\n",
    "                filtered_tokens.append(token_lower)\n",
    "    filtered_sentences.append(filtered_tokens)\n",
    "\n",
    "# İlk 10 temizlenmiş cümleyi yazdır\n",
    "print(filtered_sentences[:10])"
   ]
  },
  {
   "cell_type": "code",
   "execution_count": 68,
   "id": "cf50f286-18c5-47c1-bb06-37ee47eeafaf",
   "metadata": {},
   "outputs": [
    {
     "name": "stderr",
     "output_type": "stream",
     "text": [
      "[nltk_data] Downloading package punkt to\n",
      "[nltk_data]     C:\\Users\\veysi\\AppData\\Roaming\\nltk_data...\n",
      "[nltk_data]   Package punkt is already up-to-date!\n",
      "[nltk_data] Downloading package wordnet to\n",
      "[nltk_data]     C:\\Users\\veysi\\AppData\\Roaming\\nltk_data...\n",
      "[nltk_data]   Package wordnet is already up-to-date!\n"
     ]
    },
    {
     "name": "stdout",
     "output_type": "stream",
     "text": [
      "[[\"Allah'ım\", 'çıldıracağım', '.', 'Yemin', 'ederim', 'çıldıracağım', 'sinirimden', '.', 'Bir', 'yerden', 'de', 'çıkaramıyorum', 'cam', 'çerçeve', 'indireceğim', 'şimdi', 'ne', 'varsa', '.'], ['site', 'ne', 'zaman', 'çalıştıda', 'ürün', 'stokları', 'bitti', 'diyor', 'mal', 'mısınız', 'oğlum', 'kimi', 'kandırıyorsunuz', '!'], ['Sebebi', 'neydi', 'ki', 'diye', 'bağıracağım', 'şimdi', 'az', 'kaldı'], ['Black', 'friday', 'ne', 'amk', 'bu', 'yıl', 'çıkardınız', 'bu', 'bokuda', 'mal', 'mısınız', 'nesiniz', '.'], ['kısa', 'kısa', 'cevaplar', 'vericeksen', 'niye', 'yazıyorsun', 'gerizekalı'], ['cinnet', 'geçiriyorum', 'iyice', 'çıldırttılar', 'beni'], [\"Allah'ım\", 'etraf', 'beyinsiz', 'kaynıyor', 'çıldıracağım', 'ya'], ['Bok', 'gibi', 'geçti', 'sınavım', 'çıldıracağım'], ['Allah', 'kahretsin', 'bunları', 'öyle', 'öfkeliyim', 'ki', 'diyecek', 'söz', 'bulamıyorum'], ['Gerçek', 'gerizekalı', ',', 'deli', 'bir', 'kitle', 'var', ',', 'ama', 'öyle', 'böyle', 'değil', 'altına', 'sıçmalı', ',', 'bokuyla', 'oynamalı', 'falan', '.']]\n",
      "Lemmatize edilmiş cümleler 'lemmatized_sentences.csv' dosyasına kaydedildi.\n"
     ]
    }
   ],
   "source": [
    "#Lemmatization İşlemi Yapılmıştır\n",
    "# Gerekli NLTK verileri indiriliyor\n",
    "nltk.download('punkt')\n",
    "nltk.download('wordnet')\n",
    "\n",
    "# Lemmatizer'ı başlat\n",
    "lemmatizer = WordNetLemmatizer()\n",
    "\n",
    "# Tweetlerden tüm cümleleri almak\n",
    "all_sentences = []\n",
    "for tweet in df['Tweet']:\n",
    "    if pd.notna(tweet):  # NaN olmayanları kontrol et\n",
    "        all_sentences.append(str(tweet))\n",
    "\n",
    "# Sadece lemmatization işlemi\n",
    "tokenized_corpus_lemmatized = []\n",
    "for sentence in all_sentences:\n",
    "    tokens = word_tokenize(sentence)\n",
    "    \n",
    "    # Lemmatize et\n",
    "    lemmatized_tokens = [lemmatizer.lemmatize(token) for token in tokens]\n",
    "    \n",
    "    # Lemmatize edilmiş tokenleri cümle olarak ekle\n",
    "    tokenized_corpus_lemmatized.append(lemmatized_tokens)\n",
    "\n",
    "# İlk 10 cümleyi yazdır\n",
    "print(tokenized_corpus_lemmatized[:10])\n",
    "\n",
    "# Lemmatize edilmiş cümleleri CSV dosyasına kaydetme\n",
    "with open(\"lemmatized_sentences.csv\", mode=\"w\", newline=\"\", encoding=\"utf-8\") as file:\n",
    "    writer = csv.writer(file)\n",
    "    # Her cümleyi bir satır olarak yaz\n",
    "    for tokens in tokenized_corpus_lemmatized:\n",
    "        writer.writerow([' '.join(tokens)])  # Her kelimeyi bir araya getirip bir satıra yaz\n",
    "\n",
    "print(\"Lemmatize edilmiş cümleler 'lemmatized_sentences.csv' dosyasına kaydedildi.\")\n"
   ]
  },
  {
   "cell_type": "code",
   "execution_count": 69,
   "id": "b09ce503-a23a-4a17-818b-4404f2a0cd10",
   "metadata": {},
   "outputs": [
    {
     "name": "stdout",
     "output_type": "stream",
     "text": [
      "[['çıldıracağım'], ['yemin', 'ederim', 'çıldıracağım', 'sinirimden'], ['bir', 'yerden', 'çıkaramıyorum', 'cam', 'çerçev', 'indireceğim', 'şimdi', 'varsa'], ['site', 'zaman', 'çalıştıda', 'ürün', 'stokları', 'bitti', 'diyor', 'mal', 'mısınız', 'oğlum', 'kimi', 'kandırıyorsunuz'], ['sebebi', 'neydi', 'bağıracağım', 'şimdi', 'kaldı'], ['black', 'friday', 'amk', 'yıl', 'çıkardınız', 'bokuda', 'mal', 'mısınız', 'nesiniz'], ['kısa', 'kısa', 'cevaplar', 'vericeksen', 'yazıyorsun', 'gerizekalı'], ['cinnet', 'geçiriyorum', 'iyic', 'çıldırttılar', 'beni'], ['etraf', 'beyinsiz', 'kaynıyor', 'çıldıracağım'], ['bok', 'geçti', 'sınavım', 'çıldıracağım']]\n",
      "Stemmize edilmiş cümleler 'stemmed_sentences.csv' dosyasına kaydedildi.\n"
     ]
    }
   ],
   "source": [
    "#Stemming İşlemi Yapılmıştır\n",
    "# Stemmer'ı başlat\n",
    "stemmer = PorterStemmer()\n",
    "\n",
    "# Stem'lenmiş cümleleri saklamak için boş liste\n",
    "tokenized_corpus_stemmed = []\n",
    "\n",
    "# Filtrelenmiş her cümle (token listesi) için\n",
    "for filtered_tokens in filtered_sentences:\n",
    "    stemmed_tokens = []  # Stem'lenmiş token'ları saklamak için boş liste ekler\n",
    "    for token in filtered_tokens:\n",
    "        stem = stemmer.stem(token)  # Her kelimeyi kök haline getirir\n",
    "        stemmed_tokens.append(stem)  # Stem'lenmiş kelimeyi listeye ekler\n",
    "    tokenized_corpus_stemmed.append(stemmed_tokens)  # Stem'lenmiş cümleyi korpus listesine ekler\n",
    "\n",
    "# İlk 10 sonucu yazdırır\n",
    "print(tokenized_corpus_stemmed[:10])\n",
    "\n",
    "#csv olarak kaydetme\n",
    "with open(\"stemmed_sentences.csv\", mode=\"w\", newline=\"\", encoding=\"utf-8\") as file:\n",
    "    writer = csv.writer(file)\n",
    "    # Her cümleyi bir satır olarak yaz\n",
    "    for tokens in tokenized_corpus_stemmed:\n",
    "        writer.writerow([' '.join(tokens)])\n",
    "print(\"Stemmize edilmiş cümleler 'stemmed_sentences.csv' dosyasına kaydedildi.\")"
   ]
  },
  {
   "cell_type": "code",
   "execution_count": 76,
   "id": "43626f04-1889-40a8-b84d-4b78ceee7eb8",
   "metadata": {},
   "outputs": [
    {
     "data": {
      "image/png": "[encoded data removed]",
      "text/plain": [
       "<Figure size 1000x600 with 1 Axes>"
      ]
     },
     "metadata": {},
     "output_type": "display_data"
    }
   ],
   "source": [
    "import pandas as pd\n",
    "import matplotlib.pyplot as plt\n",
    "import numpy as np\n",
    "from collections import Counter\n",
    "import re\n",
    "df = pd.read_excel(\"C:/Users/veysi/Desktop/TurkishTweets.xlsx\") \n",
    "entences = df['Tweet'].dropna().astype(str).tolist()\n",
    "corpus_lemmatized = [s.lower().split() for s in sentences]\n",
    "# Tüm kelimeleri tek listeye topla\n",
    "all_words = [word for sentence in corpus_lemmatized for word in sentence]\n",
    "\n",
    "# Kelime frekanslarını hesapla\n",
    "word_freq = Counter(all_words)\n",
    "\n",
    "# Frekansları sırala (büyükten küçüğe)\n",
    "sorted_freq = sorted(word_freq.values(), reverse=True)\n",
    "# Log-log grafiği çizildi\n",
    "plt.figure(figsize=(10,6))\n",
    "plt.loglog(ranks, sorted_freq, marker=\".\")\n",
    "plt.title(\"Zipf Yasası Log-Log Grafiği (Excel Verisi)\")\n",
    "plt.xlabel(\"Kelime Sırası (log(rank))\")\n",
    "plt.ylabel(\"Frekans (log(frequency))\")\n",
    "plt.grid(True)\n",
    "plt.show()\n"
   ]
  },
  {
   "cell_type": "code",
   "execution_count": 46,
   "id": "20c38306-792a-4402-bd94-13e04c13d350",
   "metadata": {},
   "outputs": [
    {
     "name": "stdout",
     "output_type": "stream",
     "text": [
      "Defaulting to user installation because normal site-packages is not writeable\n",
      "Requirement already satisfied: openpyxl in c:\\programdata\\anaconda3\\lib\\site-packages (3.1.5)\n",
      "Requirement already satisfied: pyxlsb in c:\\users\\veysi\\appdata\\roaming\\python\\python312\\site-packages (1.0.10)\n",
      "Requirement already satisfied: et-xmlfile in c:\\programdata\\anaconda3\\lib\\site-packages (from openpyxl) (1.1.0)\n"
     ]
    }
   ],
   "source": [
    "!pip install openpyxl pyxlsb\n"
   ]
  },
  {
   "cell_type": "code",
   "execution_count": 77,
   "id": "3dbbc0ac-9b00-48d9-9677-f611d3033cb6",
   "metadata": {},
   "outputs": [
    {
     "name": "stdout",
     "output_type": "stream",
     "text": [
      "                                                   0\n",
      "0  Allah'ım çıldıracağım . Yemin ederim çıldıraca...\n",
      "1  site ne zaman çalıştıda ürün stokları bitti di...\n",
      "2    Sebebi neydi ki diye bağıracağım şimdi az kaldı\n",
      "3  Black friday ne amk bu yıl çıkardınız bu bokud...\n",
      "4  kısa kısa cevaplar vericeksen niye yazıyorsun ...\n"
     ]
    },
    {
     "data": {
      "image/png": "[encoded data removed]",
      "text/plain": [
       "<Figure size 1000x600 with 1 Axes>"
      ]
     },
     "metadata": {},
     "output_type": "display_data"
    }
   ],
   "source": [
    "import pandas as pd\n",
    "import matplotlib.pyplot as plt\n",
    "from collections import Counter\n",
    "\n",
    "df = pd.read_csv(\"C:/Users/veysi/Desktop/lemmatized_sentences.xls\", header=None)\n",
    "\n",
    "# Veri çerçevesinin ilk birkaç satırını görüntüler\n",
    "print(df.head())\n",
    "\n",
    "# Sütunları manuel olarak atayalım\n",
    "df.columns = ['sentence']\n",
    "\n",
    "# Tüm cümleleri birleştir ve kelimelere ayırır\n",
    "all_words = \" \".join(df[\"sentence\"].dropna()).split()\n",
    "\n",
    "# Kelime frekanslarını hesaplar\n",
    "word_freq = Counter(all_words)\n",
    "\n",
    "# Frekansları azalan şekilde sıralar\n",
    "sorted_freq = sorted(word_freq.values(), reverse=True)\n",
    "\n",
    "# Rank (sıra) verisi oluşturur\n",
    "ranks = range(1, len(sorted_freq) + 1)\n",
    "\n",
    "# Log-log grafiği çizer\n",
    "plt.figure(figsize=(10,6))\n",
    "plt.loglog(ranks, sorted_freq, marker=\".\")\n",
    "plt.title(\"Zipf Yasası Log-Log Grafiği (Excel Verisi)\")\n",
    "plt.xlabel(\"Kelime Sırası (log(rank))\")\n",
    "plt.ylabel(\"Frekans (log(frequency))\")\n",
    "plt.grid(True)\n",
    "plt.show()\n"
   ]
  },
  {
   "cell_type": "code",
   "execution_count": 78,
   "id": "4390eff8-d1eb-43ff-82be-f5cdab1a6f54",
   "metadata": {},
   "outputs": [
    {
     "name": "stdout",
     "output_type": "stream",
     "text": [
      "                                                   0\n",
      "0                                       çıldıracağım\n",
      "1               yemin ederim çıldıracağım sinirimden\n",
      "2  bir yerden çıkaramıyorum cam çerçev indireceği...\n",
      "3  site zaman çalıştıda ürün stokları bitti diyor...\n",
      "4               sebebi neydi bağıracağım şimdi kaldı\n"
     ]
    },
    {
     "data": {
      "image/png": "[encoded data removed]",
      "text/plain": [
       "<Figure size 1000x600 with 1 Axes>"
      ]
     },
     "metadata": {},
     "output_type": "display_data"
    }
   ],
   "source": [
    "import pandas as pd\n",
    "import matplotlib.pyplot as plt\n",
    "from collections import Counter\n",
    "\n",
    "df = pd.read_csv(\"C:/Users/veysi/Desktop/stemmed_sentences.xls\", header=None)\n",
    "\n",
    "# Veri çerçevesinin ilk birkaç satırını görüntüler\n",
    "print(df.head())\n",
    "\n",
    "# Sütunları manuel olarak atayalım\n",
    "df.columns = ['sentence']\n",
    "\n",
    "# Tüm cümleleri birleştir ve kelimelere ayırır\n",
    "all_words = \" \".join(df[\"sentence\"].dropna()).split()\n",
    "\n",
    "# Kelime frekanslarını hesaplar\n",
    "word_freq = Counter(all_words)\n",
    "\n",
    "# Frekansları azalan şekilde sıralar\n",
    "sorted_freq = sorted(word_freq.values(), reverse=True)\n",
    "\n",
    "# Rank (sıra) verisi oluşturur\n",
    "ranks = range(1, len(sorted_freq) + 1)\n",
    "\n",
    "# Log-log grafiği çizer\n",
    "plt.figure(figsize=(10,6))\n",
    "plt.loglog(ranks, sorted_freq, marker=\".\")\n",
    "plt.title(\"Zipf Yasası Log-Log Grafiği (Excel Verisi)\")\n",
    "plt.xlabel(\"Kelime Sırası (log(rank))\")\n",
    "plt.ylabel(\"Frekans (log(frequency))\")\n",
    "plt.grid(True)\n",
    "plt.show()\n"
   ]
  },
  {
   "cell_type": "code",
   "execution_count": 79,
   "id": "75665d4d-d98c-4a60-943c-bd35cda58f56",
   "metadata": {},
   "outputs": [],
   "source": [
    "#Vektörleştirme (Vectorization)"
   ]
  },
  {
   "cell_type": "code",
   "execution_count": 80,
   "id": "58e07391-312f-4aa5-ab1b-f4b99057f2e6",
   "metadata": {},
   "outputs": [
    {
     "name": "stdout",
     "output_type": "stream",
     "text": [
      "    00  00dan   05   10  100  1000   11  113   12  12de  ...  şükür  şüphe  \\\n",
      "0  0.0    0.0  0.0  0.0  0.0   0.0  0.0  0.0  0.0   0.0  ...    0.0    0.0   \n",
      "1  0.0    0.0  0.0  0.0  0.0   0.0  0.0  0.0  0.0   0.0  ...    0.0    0.0   \n",
      "2  0.0    0.0  0.0  0.0  0.0   0.0  0.0  0.0  0.0   0.0  ...    0.0    0.0   \n",
      "3  0.0    0.0  0.0  0.0  0.0   0.0  0.0  0.0  0.0   0.0  ...    0.0    0.0   \n",
      "4  0.0    0.0  0.0  0.0  0.0   0.0  0.0  0.0  0.0   0.0  ...    0.0    0.0   \n",
      "\n",
      "   şüphem  şüphesi  şüphesiz  şık  şıllık  şımarttım  şımarık  şşşt  \n",
      "0     0.0      0.0       0.0  0.0     0.0        0.0      0.0   0.0  \n",
      "1     0.0      0.0       0.0  0.0     0.0        0.0      0.0   0.0  \n",
      "2     0.0      0.0       0.0  0.0     0.0        0.0      0.0   0.0  \n",
      "3     0.0      0.0       0.0  0.0     0.0        0.0      0.0   0.0  \n",
      "4     0.0      0.0       0.0  0.0     0.0        0.0      0.0   0.0  \n",
      "\n",
      "[5 rows x 11166 columns]\n",
      "TF-IDF sonuçları 'tfidf_lemmatized.csv' dosyasına kaydedildi.\n"
     ]
    }
   ],
   "source": [
    "from sklearn.feature_extraction.text import TfidfVectorizer\n",
    "df = pd.read_csv(\"C:/Users/veysi/Desktop/lemmatized_sentences.xls\", header=None)\n",
    "\n",
    "# Her satırı string olarak al (lemmatize edilmiş düz cümleler)\n",
    "lemmatized_texts = df[0].astype(str).tolist()\n",
    "\n",
    "# TF-IDF uygulaması\n",
    "vectorizer = TfidfVectorizer()\n",
    "tfidf_matrix = vectorizer.fit_transform(lemmatized_texts)\n",
    "feature_names = vectorizer.get_feature_names_out()\n",
    "tfidf_df = pd.DataFrame(tfidf_matrix.toarray(), columns=feature_names)\n",
    "\n",
    "print(tfidf_df.head())\n",
    "\n",
    "tfidf_df.to_csv(\"C:/Users/veysi/Desktop/tfidf_lemmatized.csv\", index=False, encoding=\"utf-8-sig\")\n",
    "\n",
    "print(\"TF-IDF sonuçları 'tfidf_lemmatized.csv' dosyasına kaydedildi.\")"
   ]
  },
  {
   "cell_type": "code",
   "execution_count": 82,
   "id": "00616db9-d8f3-41c2-b526-8b0190350807",
   "metadata": {},
   "outputs": [
    {
     "name": "stdout",
     "output_type": "stream",
     "text": [
      "   aaa  abartma  abartmayın  abartı  abd  abdurrahman  abi  abicim  abilerl  \\\n",
      "0  0.0      0.0         0.0     0.0  0.0          0.0  0.0     0.0      0.0   \n",
      "1  0.0      0.0         0.0     0.0  0.0          0.0  0.0     0.0      0.0   \n",
      "2  0.0      0.0         0.0     0.0  0.0          0.0  0.0     0.0      0.0   \n",
      "3  0.0      0.0         0.0     0.0  0.0          0.0  0.0     0.0      0.0   \n",
      "4  0.0      0.0         0.0     0.0  0.0          0.0  0.0     0.0      0.0   \n",
      "\n",
      "   abim  ...  şükür  şüphe  şüphem  şüphesi  şüphesiz  şık  şıllık  şımarttım  \\\n",
      "0   0.0  ...    0.0    0.0     0.0      0.0       0.0  0.0     0.0        0.0   \n",
      "1   0.0  ...    0.0    0.0     0.0      0.0       0.0  0.0     0.0        0.0   \n",
      "2   0.0  ...    0.0    0.0     0.0      0.0       0.0  0.0     0.0        0.0   \n",
      "3   0.0  ...    0.0    0.0     0.0      0.0       0.0  0.0     0.0        0.0   \n",
      "4   0.0  ...    0.0    0.0     0.0      0.0       0.0  0.0     0.0        0.0   \n",
      "\n",
      "   şımarık  şşşt  \n",
      "0      0.0   0.0  \n",
      "1      0.0   0.0  \n",
      "2      0.0   0.0  \n",
      "3      0.0   0.0  \n",
      "4      0.0   0.0  \n",
      "\n",
      "[5 rows x 10793 columns]\n",
      "TF-IDF sonuçları 'tfidf_stemmed.csv' dosyasına kaydedildi.\n"
     ]
    }
   ],
   "source": [
    "from sklearn.feature_extraction.text import TfidfVectorizer\n",
    "df = pd.read_csv(\"C:/Users/veysi/Desktop/stemmed_sentences.xls\", header=None)\n",
    "\n",
    "# Her satırı string olarak al (lemmatize edilmiş düz cümleler)\n",
    "lemmatized_texts = df[0].astype(str).tolist()\n",
    "\n",
    "# TF-IDF uygulaması\n",
    "vectorizer = TfidfVectorizer()\n",
    "tfidf_matrix = vectorizer.fit_transform(lemmatized_texts)\n",
    "feature_names = vectorizer.get_feature_names_out()\n",
    "tfidf_df = pd.DataFrame(tfidf_matrix.toarray(), columns=feature_names)\n",
    "\n",
    "print(tfidf_df.head())\n",
    "\n",
    "tfidf_df.to_csv(\"C:/Users/veysi/Desktop/tfidf_stemmed.csv\", index=False, encoding=\"utf-8-sig\")\n",
    "\n",
    "print(\"TF-IDF sonuçları 'tfidf_stemmed.csv' dosyasına kaydedildi.\")"
   ]
  },
  {
   "cell_type": "code",
   "execution_count": 85,
   "id": "eaff213d-15a7-4641-bb3f-a07f90b00676",
   "metadata": {},
   "outputs": [
    {
     "name": "stdout",
     "output_type": "stream",
     "text": [
      "lemmatized_model_cbow_window2_dim100.model saved.\n",
      "lemmatized_model_skipgram_window2_dim100.model saved.\n",
      "lemmatized_model_cbow_window4_dim100.model saved.\n",
      "lemmatized_model_skipgram_window4_dim100.model saved.\n",
      "lemmatized_model_cbow_window2_dim300.model saved.\n",
      "lemmatized_model_skipgram_window2_dim300.model saved.\n",
      "lemmatized_model_cbow_window4_dim300.model saved.\n",
      "lemmatized_model_skipgram_window4_dim300.model saved.\n",
      "\n",
      "Lemmatized CBOW Window 2 Dim 100 Modeli - 'orta' ile En Benzer 3 Kelime:\n",
      "Kelime: karşılık, Benzerlik Skoru: 0.40002110600471497\n",
      "Kelime: sokan, Benzerlik Skoru: 0.3879162073135376\n",
      "Kelime: hediyeli, Benzerlik Skoru: 0.3765743672847748\n",
      "\n",
      "Stemmed Skipgram Window 4 Dim 100: 'orta' kelimesi bu modelde yok.\n",
      "\n",
      "Lemmatized Skipgram Window 2 Dim 300 Modeli - 'orta' ile En Benzer 3 Kelime:\n",
      "Kelime: tüm, Benzerlik Skoru: 0.9368016123771667\n",
      "Kelime: büyük, Benzerlik Skoru: 0.936741292476654\n",
      "Kelime: yaptım, Benzerlik Skoru: 0.9366292357444763\n"
     ]
    }
   ],
   "source": [
    "df = pd.read_csv(\"C:/Users/veysi/Desktop/lemmatized_sentences.xls\", header=None, dtype=str)\n",
    "sentences = df[0].dropna().astype(str).tolist()\n",
    "corpus_lemmatized = [s.lower().split() for s in sentences]\n",
    "\n",
    " #PARAMETRELER\n",
    "parameters = [\n",
    "    {'model_type': 'cbow', 'window': 2, 'vector_size': 100},\n",
    "    {'model_type': 'skipgram', 'window': 2, 'vector_size': 100},\n",
    "    {'model_type': 'cbow', 'window': 4, 'vector_size': 100},\n",
    "    {'model_type': 'skipgram', 'window': 4, 'vector_size': 100},\n",
    "    {'model_type': 'cbow', 'window': 2, 'vector_size': 300},\n",
    "    {'model_type': 'skipgram', 'window': 2, 'vector_size': 300},\n",
    "    {'model_type': 'cbow', 'window': 4, 'vector_size': 300},\n",
    "    {'model_type': 'skipgram', 'window': 4, 'vector_size': 300}\n",
    "]\n",
    "# MODEL EĞİTİM VE KAYIT\n",
    "def train_and_save_model(corpus, params):\n",
    "    model = Word2Vec(\n",
    "        corpus,\n",
    "        vector_size=params['vector_size'],\n",
    "        window=params['window'],\n",
    "        min_count=1,\n",
    "        sg=1 if params['model_type'] == 'skipgram' else 0\n",
    "    )\n",
    "    name = f\"lemmatized_model_{params['model_type']}_window{params['window']}_dim{params['vector_size']}.model\"\n",
    "    model.save(name)\n",
    "    print(f\"{name} saved.\")\n",
    "\n",
    "# Modelleri eğit ve kaydet\n",
    "for param in parameters:\n",
    "    train_and_save_model(corpus_lemmatized, param)\n",
    "\n",
    "# 3 örnek model yükle\n",
    "model_1 = Word2Vec.load(\"lemmatized_model_cbow_window2_dim100.model\")\n",
    "model_2 = Word2Vec.load(\"stemmed_model_skipgram_window4_dim100.model\")\n",
    "model_3 = Word2Vec.load(\"lemmatized_model_skipgram_window2_dim300.model\")\n",
    "\n",
    "# Benzer kelimeleri yazdıran fonksiyon\n",
    "def print_similar_words(model, model_name):\n",
    "    try:\n",
    "        similar = model.wv.most_similar('orta', topn=3)\n",
    "        print(f\"\\n{model_name} Modeli - 'orta' ile En Benzer 3 Kelime:\")\n",
    "        for word, score in similar:\n",
    "           print(f\"Kelime: {word}, Benzerlik Skoru: {score}\")\n",
    "    except KeyError:\n",
    "        print(f\"\\n{model_name}: 'orta' kelimesi bu modelde yok.\")\n",
    "\n",
    "# Sonuçları göster\n",
    "print_similar_words(model_1, \"Lemmatized CBOW Window 2 Dim 100\")\n",
    "print_similar_words(model_2, \"Stemmed Skipgram Window 4 Dim 100\")\n",
    "print_similar_words(model_3, \"Lemmatized Skipgram Window 2 Dim 300\")\n"
   ]
  },
  {
   "cell_type": "code",
   "execution_count": 86,
   "id": "9c140eef-44ad-433d-9a0c-3583c2abe3e5",
   "metadata": {},
   "outputs": [
    {
     "name": "stdout",
     "output_type": "stream",
     "text": [
      "lemmatized_model_cbow_window2_dim100.model saved.\n",
      "lemmatized_model_skipgram_window2_dim100.model saved.\n",
      "lemmatized_model_cbow_window4_dim100.model saved.\n",
      "lemmatized_model_skipgram_window4_dim100.model saved.\n",
      "lemmatized_model_cbow_window2_dim300.model saved.\n",
      "lemmatized_model_skipgram_window2_dim300.model saved.\n",
      "lemmatized_model_cbow_window4_dim300.model saved.\n",
      "lemmatized_model_skipgram_window4_dim300.model saved.\n",
      "\n",
      "Lemmatized CBOW Window 2 Dim 100 Modeli - 'insan' ile En Benzer 3 Kelime:\n",
      "Kelime: tetikçi, Benzerlik Skoru: 0.37477001547813416\n",
      "Kelime: bulamıyorum, Benzerlik Skoru: 0.35479700565338135\n",
      "Kelime: gerilim, Benzerlik Skoru: 0.34312817454338074\n",
      "\n",
      "Stemmed Skipgram Window 4 Dim 100: 'insan' kelimesi bu modelde yok.\n",
      "\n",
      "Lemmatized Skipgram Window 2 Dim 300 Modeli - 'insan' ile En Benzer 3 Kelime:\n",
      "Kelime: an, Benzerlik Skoru: 0.8560994863510132\n",
      "Kelime: kadar, Benzerlik Skoru: 0.8546075820922852\n",
      "Kelime: ben, Benzerlik Skoru: 0.853842556476593\n"
     ]
    }
   ],
   "source": [
    "df = pd.read_csv(\"C:/Users/veysi/Desktop/stemmed_sentences.xls\", header=None, dtype=str)\n",
    "sentences = df[0].dropna().astype(str).tolist()\n",
    "corpus_lemmatized = [s.lower().split() for s in sentences]\n",
    "\n",
    " #PARAMETRELER\n",
    "parameters = [\n",
    "    {'model_type': 'cbow', 'window': 2, 'vector_size': 100},\n",
    "    {'model_type': 'skipgram', 'window': 2, 'vector_size': 100},\n",
    "    {'model_type': 'cbow', 'window': 4, 'vector_size': 100},\n",
    "    {'model_type': 'skipgram', 'window': 4, 'vector_size': 100},\n",
    "    {'model_type': 'cbow', 'window': 2, 'vector_size': 300},\n",
    "    {'model_type': 'skipgram', 'window': 2, 'vector_size': 300},\n",
    "    {'model_type': 'cbow', 'window': 4, 'vector_size': 300},\n",
    "    {'model_type': 'skipgram', 'window': 4, 'vector_size': 300}\n",
    "]\n",
    "# MODEL EĞİTİM VE KAYIT\n",
    "def train_and_save_model(corpus, params):\n",
    "    model = Word2Vec(\n",
    "        corpus,\n",
    "        vector_size=params['vector_size'],\n",
    "        window=params['window'],\n",
    "        min_count=1,\n",
    "        sg=1 if params['model_type'] == 'skipgram' else 0\n",
    "    )\n",
    "    name = f\"lemmatized_model_{params['model_type']}_window{params['window']}_dim{params['vector_size']}.model\"\n",
    "    model.save(name)\n",
    "    print(f\"{name} saved.\")\n",
    "\n",
    "# Modelleri eğit ve kaydet\n",
    "for param in parameters:\n",
    "    train_and_save_model(corpus_lemmatized, param)\n",
    "\n",
    "# 3 örnek model yükle\n",
    "model_1 = Word2Vec.load(\"lemmatized_model_cbow_window2_dim100.model\")\n",
    "model_2 = Word2Vec.load(\"stemmed_model_skipgram_window4_dim100.model\")\n",
    "model_3 = Word2Vec.load(\"lemmatized_model_skipgram_window2_dim300.model\")\n",
    "\n",
    "# Benzer kelimeleri yazdıran fonksiyon\n",
    "def print_similar_words(model, model_name):\n",
    "    try:\n",
    "        similar = model.wv.most_similar('insan', topn=3)\n",
    "        print(f\"\\n{model_name} Modeli - 'insan' ile En Benzer 3 Kelime:\")\n",
    "        for word, score in similar:\n",
    "           print(f\"Kelime: {word}, Benzerlik Skoru: {score}\")\n",
    "    except KeyError:\n",
    "        print(f\"\\n{model_name}: 'insan' kelimesi bu modelde yok.\")\n",
    "\n",
    "# Sonuçları göster\n",
    "print_similar_words(model_1, \"Lemmatized CBOW Window 2 Dim 100\")\n",
    "print_similar_words(model_2, \"Stemmed Skipgram Window 4 Dim 100\")\n",
    "print_similar_words(model_3, \"Lemmatized Skipgram Window 2 Dim 300\")\n"
   ]
  },
  {
   "cell_type": "code",
   "execution_count": null,
   "id": "357d58c0-bf3c-4059-a54c-38e4dee73311",
   "metadata": {},
   "outputs": [],
   "source": []
  }
 ],
 "metadata": {
  "kernelspec": {
   "display_name": "Python 3 (ipykernel)",
   "language": "python",
   "name": "python3"
  },
  "language_info": {
   "codemirror_mode": {
    "name": "ipython",
    "version": 3
   },
   "file_extension": ".py",
   "mimetype": "text/x-python",
   "name": "python",
   "nbconvert_exporter": "python",
   "pygments_lexer": "ipython3",
   "version": "3.12.7"
  }
 },
 "nbformat": 4,
 "nbformat_minor": 5
}
